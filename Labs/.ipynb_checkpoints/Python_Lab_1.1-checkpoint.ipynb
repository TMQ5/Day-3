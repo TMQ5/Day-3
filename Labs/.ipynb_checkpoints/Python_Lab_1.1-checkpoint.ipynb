{
 "cells": [
  {
   "cell_type": "markdown",
   "metadata": {},
   "source": [
    "# Python_Lab_1.1\n"
   ]
  },
  {
   "cell_type": "markdown",
   "metadata": {},
   "source": [
    "### Task 1\n",
    "1. Print a welcome message.\n",
    "2. Create variables to store the following details:\n",
    "    - Your name (string)\n",
    "    - Your age (integer)\n",
    "    - Your height (float)\n",
    "    - Whether you are a student (boolean)\n",
    "3. Print these details.\n"
   ]
  },
  {
   "cell_type": "code",
   "execution_count": 1,
   "metadata": {},
   "outputs": [
    {
     "name": "stdout",
     "output_type": "stream",
     "text": [
      "Welcome\n",
      "My name is Tahani. I'm 30 years old and my hieght is 157.0. Am I a student? True\n"
     ]
    }
   ],
   "source": [
    "print(\"Welcome\")\n",
    "name = \"Tahani\"\n",
    "age = 30\n",
    "height = 157.0\n",
    "student = True \n",
    "\n",
    "print(f\"My name is {name}. I'm {age} years old and my hieght is {height}. Am I a student? {student}\")"
   ]
  },
  {
   "cell_type": "markdown",
   "metadata": {},
   "source": [
    "### Task 2\n",
    " 1. Create a list of 5 favorite fruits.\n",
    " 2. Create a list with the price of each fruit.\n",
    " 3. Print the data types of these lists."
   ]
  },
  {
   "cell_type": "code",
   "execution_count": 2,
   "metadata": {},
   "outputs": [
    {
     "name": "stdout",
     "output_type": "stream",
     "text": [
      "Type of fav_fruits: <class 'list'>\n",
      "Type of prices: <class 'list'>\n"
     ]
    }
   ],
   "source": [
    "fav_fruits = [\"orange\", \"blueberry\", \"banana\", \"watermelon\", \"avocado\"]\n",
    "prices = [7, 27, 6, 30, 13]\n",
    "print(\"Type of fav_fruits:\", type(fav_fruits))\n",
    "print(\"Type of prices:\", type(prices))"
   ]
  },
  {
   "cell_type": "markdown",
   "metadata": {},
   "source": [
    "### Task 3\n",
    "1. Print the names of all fruits using a loop.\n",
    "2. Using a while loop and input built-in function, do the following:\n",
    "    - Ask the the user : \"what is the product of 7 * 24 ?\"\n",
    "    - check if the answer is right then exit the loop and print \"You answered this Question correctly\".\n",
    "    - if the answer is wrong, then print \"Your Answer is wrong try again..\" and show the user the question again.\n",
    "3. Build a program that takes one defined variable of type int, then it prints out the result formatted like the following pattern (if we give it 5 for example):\n",
    "\n",
    "    5 4 3 2 1\n",
    "\n",
    "    4 3 2 1\n",
    "\n",
    "    3 2 1\n",
    "\n",
    "    2 1\n",
    "    \n",
    "    1"
   ]
  },
  {
   "cell_type": "code",
   "execution_count": 3,
   "metadata": {},
   "outputs": [
    {
     "name": "stdout",
     "output_type": "stream",
     "text": [
      "orange\n",
      "blueberry\n",
      "banana\n",
      "watermelon\n",
      "avocado\n"
     ]
    }
   ],
   "source": [
    "# 1. for loop\n",
    "for fruit in fav_fruits:\n",
    "    print(fruit)"
   ]
  },
  {
   "cell_type": "code",
   "execution_count": 7,
   "metadata": {},
   "outputs": [
    {
     "name": "stdout",
     "output_type": "stream",
     "text": [
      "what is the product of 7 * 24 ?4\n",
      "Your Answer is wrong try again..\n",
      "what is the product of 7 * 24 ?4\n",
      "Your Answer is wrong try again..\n",
      "what is the product of 7 * 24 ?4\n",
      "Your Answer is wrong try again..\n",
      "what is the product of 7 * 24 ?168\n",
      "You answered this Question correctly\n"
     ]
    }
   ],
   "source": [
    "# 2. while loop\n",
    "while True:\n",
    "    user_answer = int(input(\"what is the product of 7 * 24 ?\"))\n",
    "    if user_answer == 168:\n",
    "        print(\"You answered this Question correctly\")\n",
    "        break\n",
    "    \n",
    "    else:\n",
    "        print(\"Your Answer is wrong try again..\")"
   ]
  },
  {
   "cell_type": "code",
   "execution_count": 10,
   "metadata": {},
   "outputs": [
    {
     "name": "stdout",
     "output_type": "stream",
     "text": [
      "Enter a number: 5\n",
      "5 4 3 2 1 \n",
      "4 3 2 1 \n",
      "3 2 1 \n",
      "2 1 \n",
      "1 \n"
     ]
    }
   ],
   "source": [
    "# 3. Build a program \n",
    "num = int(input(\"Enter a number: \"))\n",
    "\n",
    "for i in range(num, 0, -1):\n",
    "    for j in range(i, 0, -1):\n",
    "        print(j, end = \" \")\n",
    "    print()\n",
    "    "
   ]
  },
  {
   "cell_type": "markdown",
   "metadata": {},
   "source": [
    "### Task 4\n",
    "You want to recommend a movie to a friend based on the rating and popularity. To accomplish this do the following:\n",
    "\n",
    "- Create a variable for the movie (choose any movie you like).\n",
    "- Create a variable of type int to hold the rating of the movie out of 5. Give this movie rate = 3\n",
    "- Create a popularity score of type float, let it be 72.65\n",
    "- Using an if statement:\n",
    "    - Check if the movie rating is 4 or greater and the popularity is greater than 80, print \"Highly recommended\".\n",
    "    - Else if the movie rating is 3 or greater and the popularity is greater than 70, print \"I recommended it, It is good\".\n",
    "    - Else if the movie rating is 2 or less and the popularity is greater than 60, print \"You should check it out!\".\n",
    "    - Else the movie rating is 2 or less and the popularity is less than 50, print \"Don't watch it, It is a waste of time\"."
   ]
  },
  {
   "cell_type": "code",
   "execution_count": 13,
   "metadata": {},
   "outputs": [
    {
     "name": "stdout",
     "output_type": "stream",
     "text": [
      "I recommended it, It is good\n"
     ]
    }
   ],
   "source": [
    "movie = \"Tangled\"\n",
    "movie_rate = 3\n",
    "popularity_score = 72.65\n",
    "\n",
    "if movie_rate >= 4 and popularity_score > 80:\n",
    "    print(\"Highly recommended\")\n",
    "\n",
    "elif movie_rate >= 3 and popularity_score > 70:\n",
    "    print(\"I recommended it, It is good\")\n",
    "\n",
    "elif movie_rate <= 2 and popularity_score > 60:\n",
    "    print(\"You should check it out!\")\n",
    "    \n",
    "elif movie_rate <= 2 and popularity_score < 50:\n",
    "    print(\"Don't watch it, It is a waste of time\")"
   ]
  }
 ],
 "metadata": {
  "kernelspec": {
   "display_name": "Python 3 (ipykernel)",
   "language": "python",
   "name": "python3"
  },
  "language_info": {
   "codemirror_mode": {
    "name": "ipython",
    "version": 3
   },
   "file_extension": ".py",
   "mimetype": "text/x-python",
   "name": "python",
   "nbconvert_exporter": "python",
   "pygments_lexer": "ipython3",
   "version": "3.11.5"
  }
 },
 "nbformat": 4,
 "nbformat_minor": 2
}
