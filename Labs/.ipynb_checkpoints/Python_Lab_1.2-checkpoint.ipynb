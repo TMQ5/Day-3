{
 "cells": [
  {
   "cell_type": "markdown",
   "metadata": {},
   "source": [
    "# Python_Lab_1.2"
   ]
  },
  {
   "cell_type": "markdown",
   "metadata": {},
   "source": [
    "### Task 1: \n",
    "1. Create a tuple with the following details:\n",
    "    - Your favorite movie (string)\n",
    "    - The year it was released (integer)\n",
    "    - Its rating out of 10 (float)\n",
    "    - Whether you have watched it (boolean)\n",
    "2. Print the detailes"
   ]
  },
  {
   "cell_type": "code",
   "execution_count": 8,
   "metadata": {},
   "outputs": [
    {
     "name": "stdout",
     "output_type": "stream",
     "text": [
      "My Favorite Movie Is: Tangled\n",
      "Year of Released: 2010\n",
      "I Rate it: 10.0 out of 10\n",
      "Have I watched it before?: True\n"
     ]
    }
   ],
   "source": [
    "fav_movie =(\"Tangled\", 2010, 10.0, True)\n",
    "print(f\"My Favorite Movie Is: {fav_movie[0]}\")\n",
    "print(f\"Year of Released: {fav_movie[1]}\")\n",
    "print(f\"I Rate it: {fav_movie[2]} out of 10\")\n",
    "print(f\"Have I watched it before?: {fav_movie[3]}\")"
   ]
  },
  {
   "cell_type": "markdown",
   "metadata": {},
   "source": [
    "### Task 2:\n",
    "1. Create a set of 5 favorite colors.\n",
    "2. Print all the colors"
   ]
  },
  {
   "cell_type": "code",
   "execution_count": 9,
   "metadata": {},
   "outputs": [
    {
     "name": "stdout",
     "output_type": "stream",
     "text": [
      "My Favorite Colors are: {'Blue', 'white', 'Black', 'Purple', 'Pink'}\n"
     ]
    }
   ],
   "source": [
    "fav_colors = {\"Pink\" , \"white\", \"Blue\", \"Black\", \"Purple\"}\n",
    "print(f\"My Favorite Colors are: {fav_colors}\")"
   ]
  },
  {
   "cell_type": "markdown",
   "metadata": {},
   "source": [
    "### Task 3:\n",
    "1. Create a dictionary to store information about 3 friends (name as key and a tuple with age and favorite hobby as value).\n",
    "2. Print the details of all friends."
   ]
  },
  {
   "cell_type": "code",
   "execution_count": 10,
   "metadata": {},
   "outputs": [
    {
     "name": "stdout",
     "output_type": "stream",
     "text": [
      "{'Ghuzaiyl': (30, 'Reading'), 'Atheer': (30, 'Cooking'), 'Rahaf': (31, 'shopping')}\n"
     ]
    }
   ],
   "source": [
    "friends = {\"Ghuzaiyl\":(30, \"Reading\"),\n",
    "           \"Atheer\": (30, \"Cooking\"),\n",
    "           \"Rahaf\": (31, \"shopping\")}\n",
    "print(friends)"
   ]
  },
  {
   "cell_type": "markdown",
   "metadata": {},
   "source": [
    "### Task 4:\n",
    "1. Check if you have watched the movie and print an appropriate message.\n",
    "1. Check if a specific color is in your favorite colors set and print its availability status."
   ]
  },
  {
   "cell_type": "code",
   "execution_count": 11,
   "metadata": {},
   "outputs": [
    {
     "name": "stdout",
     "output_type": "stream",
     "text": [
      "I watched this movie.\n"
     ]
    }
   ],
   "source": [
    "# 1\n",
    "watchedـmovie = True\n",
    "if watchedـmovie:\n",
    "    print(\"I watched this movie.\")\n",
    "else: \n",
    "    print(\"I did not watch this movie.\")"
   ]
  },
  {
   "cell_type": "code",
   "execution_count": 12,
   "metadata": {},
   "outputs": [
    {
     "name": "stdout",
     "output_type": "stream",
     "text": [
      "The color Green is not in my favorite colors.\n"
     ]
    }
   ],
   "source": [
    "# 2\n",
    "specific_color = \"Green\"\n",
    "\n",
    "if specific_color in fav_colors:\n",
    "    print(f\"The color {specific_color} is in my favorite colors.\")\n",
    "else: \n",
    "    print(f\"The color {specific_color} is not in my favorite colors.\")"
   ]
  }
 ],
 "metadata": {
  "kernelspec": {
   "display_name": "Python 3 (ipykernel)",
   "language": "python",
   "name": "python3"
  },
  "language_info": {
   "codemirror_mode": {
    "name": "ipython",
    "version": 3
   },
   "file_extension": ".py",
   "mimetype": "text/x-python",
   "name": "python",
   "nbconvert_exporter": "python",
   "pygments_lexer": "ipython3",
   "version": "3.11.5"
  }
 },
 "nbformat": 4,
 "nbformat_minor": 2
}
